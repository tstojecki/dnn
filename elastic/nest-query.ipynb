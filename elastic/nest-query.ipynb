{
 "cells": [
  {
   "cell_type": "code",
   "execution_count": null,
   "metadata": {
    "dotnet_interactive": {
     "language": "csharp"
    }
   },
   "outputs": [
    {
     "data": {
      "text/html": [
       "<div><div></div><div><strong>Installed Packages</strong><ul><li><span>elasticsearch.net, 7.13.2</span></li><li><span>NEST, 7.13.2</span></li></ul></div><div></div></div>"
      ]
     },
     "output_type": "unknown"
    },
    {
     "data": {
      "text/plain": [
       "Invalid NEST response built from a successful (404) low level call on POST: /items/_search?typed_keys=true\r\n",
       "# Audit trail of this API call:\r\n",
       " - [1] HealthyResponse: Node: http://localhost:9200/ Took: 00:00:00.0168421\r\n",
       "# Request:\r\n",
       "{\"query\":{\"match_all\":{}}}\r\n",
       "# Response:\r\n",
       "{\"error\":{\"root_cause\":[{\"type\":\"index_not_found_exception\",\"reason\":\"no such index [items]\",\"resource.type\":\"index_or_alias\",\"resource.id\":\"items\",\"index_uuid\":\"_na_\",\"index\":\"items\"}],\"type\":\"index_not_found_exception\",\"reason\":\"no such index [items]\",\"resource.type\":\"index_or_alias\",\"resource.id\":\"items\",\"index_uuid\":\"_na_\",\"index\":\"items\"},\"status\":404}\r\n",
       "\r\n"
      ]
     },
     "output_type": "unknown"
    }
   ],
   "source": [
    "#r \"nuget:NEST, 7.13.2\"\r\n",
    "using Nest;\r\n",
    "using System.Linq;\r\n",
    "\r\n",
    "var node = new Uri(\"http://localhost:9200\");\r\n",
    "var settings = new ConnectionSettings(node)\r\n",
    "\t.DisableDirectStreaming();\r\n",
    "var client = new ElasticClient(settings);\r\n",
    "\r\n",
    "var searchResponse = client.Search<dynamic>(x => x\r\n",
    "\t.Index(\"items\")\r\n",
    "\t.Query(x => x.MatchAll()));\r\n",
    "\r\n",
    "Console.WriteLine(searchResponse.DebugInformation);"
   ]
  }
 ],
 "metadata": {
  "kernelspec": {
   "display_name": ".NET (C#)",
   "language": "C#",
   "name": ".net-csharp"
  },
  "language_info": {
   "name": "C#"
  }
 },
 "nbformat": 4,
 "nbformat_minor": 2
}